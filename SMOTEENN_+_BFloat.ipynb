{
  "cells": [
    {
      "cell_type": "code",
      "execution_count": 1,
      "metadata": {
        "id": "rWCTqPI0Qq-x"
      },
      "outputs": [],
      "source": [
        "import tensorflow as tf\n",
        "from tensorflow.keras.models import Sequential\n",
        "from tensorflow.keras.layers import Dense, Conv2D, Flatten\n",
        "import pandas as pd\n",
        "import numpy as np\n",
        "from sklearn.preprocessing import StandardScaler\n",
        "from sklearn.model_selection import train_test_split\n",
        "import matplotlib.pyplot as plt\n",
        "import seaborn as sns"
      ]
    },
    {
      "cell_type": "code",
      "execution_count": 2,
      "metadata": {
        "colab": {
          "base_uri": "https://localhost:8080/",
          "height": 206
        },
        "id": "cB5VOlRTX3kq",
        "outputId": "6b8f7969-3c6d-44f2-9966-79911c407aa9"
      },
      "outputs": [
        {
          "output_type": "execute_result",
          "data": {
            "text/plain": [
              "   Education  JoiningYear       City  PaymentTier  Age  Gender EverBenched  \\\n",
              "0  Bachelors         2017  Bangalore            3   34    Male          No   \n",
              "1  Bachelors         2013       Pune            1   28  Female          No   \n",
              "2  Bachelors         2014  New Delhi            3   38  Female          No   \n",
              "3    Masters         2016  Bangalore            3   27    Male          No   \n",
              "4    Masters         2017       Pune            3   24    Male         Yes   \n",
              "\n",
              "   ExperienceInCurrentDomain  LeaveOrNot  \n",
              "0                          0           0  \n",
              "1                          3           1  \n",
              "2                          2           0  \n",
              "3                          5           1  \n",
              "4                          2           1  "
            ],
            "text/html": [
              "\n",
              "  <div id=\"df-58263eed-8000-4c24-b857-516c56f60dc6\">\n",
              "    <div class=\"colab-df-container\">\n",
              "      <div>\n",
              "<style scoped>\n",
              "    .dataframe tbody tr th:only-of-type {\n",
              "        vertical-align: middle;\n",
              "    }\n",
              "\n",
              "    .dataframe tbody tr th {\n",
              "        vertical-align: top;\n",
              "    }\n",
              "\n",
              "    .dataframe thead th {\n",
              "        text-align: right;\n",
              "    }\n",
              "</style>\n",
              "<table border=\"1\" class=\"dataframe\">\n",
              "  <thead>\n",
              "    <tr style=\"text-align: right;\">\n",
              "      <th></th>\n",
              "      <th>Education</th>\n",
              "      <th>JoiningYear</th>\n",
              "      <th>City</th>\n",
              "      <th>PaymentTier</th>\n",
              "      <th>Age</th>\n",
              "      <th>Gender</th>\n",
              "      <th>EverBenched</th>\n",
              "      <th>ExperienceInCurrentDomain</th>\n",
              "      <th>LeaveOrNot</th>\n",
              "    </tr>\n",
              "  </thead>\n",
              "  <tbody>\n",
              "    <tr>\n",
              "      <th>0</th>\n",
              "      <td>Bachelors</td>\n",
              "      <td>2017</td>\n",
              "      <td>Bangalore</td>\n",
              "      <td>3</td>\n",
              "      <td>34</td>\n",
              "      <td>Male</td>\n",
              "      <td>No</td>\n",
              "      <td>0</td>\n",
              "      <td>0</td>\n",
              "    </tr>\n",
              "    <tr>\n",
              "      <th>1</th>\n",
              "      <td>Bachelors</td>\n",
              "      <td>2013</td>\n",
              "      <td>Pune</td>\n",
              "      <td>1</td>\n",
              "      <td>28</td>\n",
              "      <td>Female</td>\n",
              "      <td>No</td>\n",
              "      <td>3</td>\n",
              "      <td>1</td>\n",
              "    </tr>\n",
              "    <tr>\n",
              "      <th>2</th>\n",
              "      <td>Bachelors</td>\n",
              "      <td>2014</td>\n",
              "      <td>New Delhi</td>\n",
              "      <td>3</td>\n",
              "      <td>38</td>\n",
              "      <td>Female</td>\n",
              "      <td>No</td>\n",
              "      <td>2</td>\n",
              "      <td>0</td>\n",
              "    </tr>\n",
              "    <tr>\n",
              "      <th>3</th>\n",
              "      <td>Masters</td>\n",
              "      <td>2016</td>\n",
              "      <td>Bangalore</td>\n",
              "      <td>3</td>\n",
              "      <td>27</td>\n",
              "      <td>Male</td>\n",
              "      <td>No</td>\n",
              "      <td>5</td>\n",
              "      <td>1</td>\n",
              "    </tr>\n",
              "    <tr>\n",
              "      <th>4</th>\n",
              "      <td>Masters</td>\n",
              "      <td>2017</td>\n",
              "      <td>Pune</td>\n",
              "      <td>3</td>\n",
              "      <td>24</td>\n",
              "      <td>Male</td>\n",
              "      <td>Yes</td>\n",
              "      <td>2</td>\n",
              "      <td>1</td>\n",
              "    </tr>\n",
              "  </tbody>\n",
              "</table>\n",
              "</div>\n",
              "      <button class=\"colab-df-convert\" onclick=\"convertToInteractive('df-58263eed-8000-4c24-b857-516c56f60dc6')\"\n",
              "              title=\"Convert this dataframe to an interactive table.\"\n",
              "              style=\"display:none;\">\n",
              "        \n",
              "  <svg xmlns=\"http://www.w3.org/2000/svg\" height=\"24px\"viewBox=\"0 0 24 24\"\n",
              "       width=\"24px\">\n",
              "    <path d=\"M0 0h24v24H0V0z\" fill=\"none\"/>\n",
              "    <path d=\"M18.56 5.44l.94 2.06.94-2.06 2.06-.94-2.06-.94-.94-2.06-.94 2.06-2.06.94zm-11 1L8.5 8.5l.94-2.06 2.06-.94-2.06-.94L8.5 2.5l-.94 2.06-2.06.94zm10 10l.94 2.06.94-2.06 2.06-.94-2.06-.94-.94-2.06-.94 2.06-2.06.94z\"/><path d=\"M17.41 7.96l-1.37-1.37c-.4-.4-.92-.59-1.43-.59-.52 0-1.04.2-1.43.59L10.3 9.45l-7.72 7.72c-.78.78-.78 2.05 0 2.83L4 21.41c.39.39.9.59 1.41.59.51 0 1.02-.2 1.41-.59l7.78-7.78 2.81-2.81c.8-.78.8-2.07 0-2.86zM5.41 20L4 18.59l7.72-7.72 1.47 1.35L5.41 20z\"/>\n",
              "  </svg>\n",
              "      </button>\n",
              "      \n",
              "  <style>\n",
              "    .colab-df-container {\n",
              "      display:flex;\n",
              "      flex-wrap:wrap;\n",
              "      gap: 12px;\n",
              "    }\n",
              "\n",
              "    .colab-df-convert {\n",
              "      background-color: #E8F0FE;\n",
              "      border: none;\n",
              "      border-radius: 50%;\n",
              "      cursor: pointer;\n",
              "      display: none;\n",
              "      fill: #1967D2;\n",
              "      height: 32px;\n",
              "      padding: 0 0 0 0;\n",
              "      width: 32px;\n",
              "    }\n",
              "\n",
              "    .colab-df-convert:hover {\n",
              "      background-color: #E2EBFA;\n",
              "      box-shadow: 0px 1px 2px rgba(60, 64, 67, 0.3), 0px 1px 3px 1px rgba(60, 64, 67, 0.15);\n",
              "      fill: #174EA6;\n",
              "    }\n",
              "\n",
              "    [theme=dark] .colab-df-convert {\n",
              "      background-color: #3B4455;\n",
              "      fill: #D2E3FC;\n",
              "    }\n",
              "\n",
              "    [theme=dark] .colab-df-convert:hover {\n",
              "      background-color: #434B5C;\n",
              "      box-shadow: 0px 1px 3px 1px rgba(0, 0, 0, 0.15);\n",
              "      filter: drop-shadow(0px 1px 2px rgba(0, 0, 0, 0.3));\n",
              "      fill: #FFFFFF;\n",
              "    }\n",
              "  </style>\n",
              "\n",
              "      <script>\n",
              "        const buttonEl =\n",
              "          document.querySelector('#df-58263eed-8000-4c24-b857-516c56f60dc6 button.colab-df-convert');\n",
              "        buttonEl.style.display =\n",
              "          google.colab.kernel.accessAllowed ? 'block' : 'none';\n",
              "\n",
              "        async function convertToInteractive(key) {\n",
              "          const element = document.querySelector('#df-58263eed-8000-4c24-b857-516c56f60dc6');\n",
              "          const dataTable =\n",
              "            await google.colab.kernel.invokeFunction('convertToInteractive',\n",
              "                                                     [key], {});\n",
              "          if (!dataTable) return;\n",
              "\n",
              "          const docLinkHtml = 'Like what you see? Visit the ' +\n",
              "            '<a target=\"_blank\" href=https://colab.research.google.com/notebooks/data_table.ipynb>data table notebook</a>'\n",
              "            + ' to learn more about interactive tables.';\n",
              "          element.innerHTML = '';\n",
              "          dataTable['output_type'] = 'display_data';\n",
              "          await google.colab.output.renderOutput(dataTable, element);\n",
              "          const docLink = document.createElement('div');\n",
              "          docLink.innerHTML = docLinkHtml;\n",
              "          element.appendChild(docLink);\n",
              "        }\n",
              "      </script>\n",
              "    </div>\n",
              "  </div>\n",
              "  "
            ]
          },
          "metadata": {},
          "execution_count": 2
        }
      ],
      "source": [
        "df = pd.read_csv('Employee.csv')\n",
        "df.head()"
      ]
    },
    {
      "cell_type": "code",
      "source": [
        "print(df['Education'].value_counts())\n",
        "print(df['City'].value_counts())\n",
        "print(df['Gender'].value_counts())\n",
        "print(df['EverBenched'].value_counts())"
      ],
      "metadata": {
        "colab": {
          "base_uri": "https://localhost:8080/"
        },
        "id": "VBSyPsG1gf_C",
        "outputId": "c6ee1a62-3074-452a-d363-5f636d18b46e"
      },
      "execution_count": 3,
      "outputs": [
        {
          "output_type": "stream",
          "name": "stdout",
          "text": [
            "Bachelors    3601\n",
            "Masters       873\n",
            "PHD           179\n",
            "Name: Education, dtype: int64\n",
            "Bangalore    2228\n",
            "Pune         1268\n",
            "New Delhi    1157\n",
            "Name: City, dtype: int64\n",
            "Male      2778\n",
            "Female    1875\n",
            "Name: Gender, dtype: int64\n",
            "No     4175\n",
            "Yes     478\n",
            "Name: EverBenched, dtype: int64\n"
          ]
        }
      ]
    },
    {
      "cell_type": "code",
      "source": [
        "df['Education'] = df['Education'].apply(lambda x: 0 if x == 'Bachelors' else (1 if x == 'Masters' else 2))\n",
        "df['City'] = df['City'].apply(lambda x: 0 if x == 'Bangalore' else (1 if x == 'Pune' else 2))\n",
        "df['Gender'] = df['Gender'].apply(lambda x: 0 if x == 'Male' else 1)\n",
        "df['EverBenched'] = df['EverBenched'].apply(lambda x: 0 if x == 'No' else 1)"
      ],
      "metadata": {
        "id": "AZkooMPytINo"
      },
      "execution_count": 4,
      "outputs": []
    },
    {
      "cell_type": "code",
      "source": [
        "df"
      ],
      "metadata": {
        "colab": {
          "base_uri": "https://localhost:8080/",
          "height": 424
        },
        "id": "BEFM2u2XhTeI",
        "outputId": "0899319a-8c00-4a30-cdbc-6949cbf86b77"
      },
      "execution_count": 5,
      "outputs": [
        {
          "output_type": "execute_result",
          "data": {
            "text/plain": [
              "      Education  JoiningYear  City  PaymentTier  Age  Gender  EverBenched  \\\n",
              "0             0         2017     0            3   34       0            0   \n",
              "1             0         2013     1            1   28       1            0   \n",
              "2             0         2014     2            3   38       1            0   \n",
              "3             1         2016     0            3   27       0            0   \n",
              "4             1         2017     1            3   24       0            1   \n",
              "...         ...          ...   ...          ...  ...     ...          ...   \n",
              "4648          0         2013     0            3   26       1            0   \n",
              "4649          1         2013     1            2   37       0            0   \n",
              "4650          1         2018     2            3   27       0            0   \n",
              "4651          0         2012     0            3   30       0            1   \n",
              "4652          0         2015     0            3   33       0            1   \n",
              "\n",
              "      ExperienceInCurrentDomain  LeaveOrNot  \n",
              "0                             0           0  \n",
              "1                             3           1  \n",
              "2                             2           0  \n",
              "3                             5           1  \n",
              "4                             2           1  \n",
              "...                         ...         ...  \n",
              "4648                          4           0  \n",
              "4649                          2           1  \n",
              "4650                          5           1  \n",
              "4651                          2           0  \n",
              "4652                          4           0  \n",
              "\n",
              "[4653 rows x 9 columns]"
            ],
            "text/html": [
              "\n",
              "  <div id=\"df-797be250-2b6d-4a71-93fe-77c0c8c356ea\">\n",
              "    <div class=\"colab-df-container\">\n",
              "      <div>\n",
              "<style scoped>\n",
              "    .dataframe tbody tr th:only-of-type {\n",
              "        vertical-align: middle;\n",
              "    }\n",
              "\n",
              "    .dataframe tbody tr th {\n",
              "        vertical-align: top;\n",
              "    }\n",
              "\n",
              "    .dataframe thead th {\n",
              "        text-align: right;\n",
              "    }\n",
              "</style>\n",
              "<table border=\"1\" class=\"dataframe\">\n",
              "  <thead>\n",
              "    <tr style=\"text-align: right;\">\n",
              "      <th></th>\n",
              "      <th>Education</th>\n",
              "      <th>JoiningYear</th>\n",
              "      <th>City</th>\n",
              "      <th>PaymentTier</th>\n",
              "      <th>Age</th>\n",
              "      <th>Gender</th>\n",
              "      <th>EverBenched</th>\n",
              "      <th>ExperienceInCurrentDomain</th>\n",
              "      <th>LeaveOrNot</th>\n",
              "    </tr>\n",
              "  </thead>\n",
              "  <tbody>\n",
              "    <tr>\n",
              "      <th>0</th>\n",
              "      <td>0</td>\n",
              "      <td>2017</td>\n",
              "      <td>0</td>\n",
              "      <td>3</td>\n",
              "      <td>34</td>\n",
              "      <td>0</td>\n",
              "      <td>0</td>\n",
              "      <td>0</td>\n",
              "      <td>0</td>\n",
              "    </tr>\n",
              "    <tr>\n",
              "      <th>1</th>\n",
              "      <td>0</td>\n",
              "      <td>2013</td>\n",
              "      <td>1</td>\n",
              "      <td>1</td>\n",
              "      <td>28</td>\n",
              "      <td>1</td>\n",
              "      <td>0</td>\n",
              "      <td>3</td>\n",
              "      <td>1</td>\n",
              "    </tr>\n",
              "    <tr>\n",
              "      <th>2</th>\n",
              "      <td>0</td>\n",
              "      <td>2014</td>\n",
              "      <td>2</td>\n",
              "      <td>3</td>\n",
              "      <td>38</td>\n",
              "      <td>1</td>\n",
              "      <td>0</td>\n",
              "      <td>2</td>\n",
              "      <td>0</td>\n",
              "    </tr>\n",
              "    <tr>\n",
              "      <th>3</th>\n",
              "      <td>1</td>\n",
              "      <td>2016</td>\n",
              "      <td>0</td>\n",
              "      <td>3</td>\n",
              "      <td>27</td>\n",
              "      <td>0</td>\n",
              "      <td>0</td>\n",
              "      <td>5</td>\n",
              "      <td>1</td>\n",
              "    </tr>\n",
              "    <tr>\n",
              "      <th>4</th>\n",
              "      <td>1</td>\n",
              "      <td>2017</td>\n",
              "      <td>1</td>\n",
              "      <td>3</td>\n",
              "      <td>24</td>\n",
              "      <td>0</td>\n",
              "      <td>1</td>\n",
              "      <td>2</td>\n",
              "      <td>1</td>\n",
              "    </tr>\n",
              "    <tr>\n",
              "      <th>...</th>\n",
              "      <td>...</td>\n",
              "      <td>...</td>\n",
              "      <td>...</td>\n",
              "      <td>...</td>\n",
              "      <td>...</td>\n",
              "      <td>...</td>\n",
              "      <td>...</td>\n",
              "      <td>...</td>\n",
              "      <td>...</td>\n",
              "    </tr>\n",
              "    <tr>\n",
              "      <th>4648</th>\n",
              "      <td>0</td>\n",
              "      <td>2013</td>\n",
              "      <td>0</td>\n",
              "      <td>3</td>\n",
              "      <td>26</td>\n",
              "      <td>1</td>\n",
              "      <td>0</td>\n",
              "      <td>4</td>\n",
              "      <td>0</td>\n",
              "    </tr>\n",
              "    <tr>\n",
              "      <th>4649</th>\n",
              "      <td>1</td>\n",
              "      <td>2013</td>\n",
              "      <td>1</td>\n",
              "      <td>2</td>\n",
              "      <td>37</td>\n",
              "      <td>0</td>\n",
              "      <td>0</td>\n",
              "      <td>2</td>\n",
              "      <td>1</td>\n",
              "    </tr>\n",
              "    <tr>\n",
              "      <th>4650</th>\n",
              "      <td>1</td>\n",
              "      <td>2018</td>\n",
              "      <td>2</td>\n",
              "      <td>3</td>\n",
              "      <td>27</td>\n",
              "      <td>0</td>\n",
              "      <td>0</td>\n",
              "      <td>5</td>\n",
              "      <td>1</td>\n",
              "    </tr>\n",
              "    <tr>\n",
              "      <th>4651</th>\n",
              "      <td>0</td>\n",
              "      <td>2012</td>\n",
              "      <td>0</td>\n",
              "      <td>3</td>\n",
              "      <td>30</td>\n",
              "      <td>0</td>\n",
              "      <td>1</td>\n",
              "      <td>2</td>\n",
              "      <td>0</td>\n",
              "    </tr>\n",
              "    <tr>\n",
              "      <th>4652</th>\n",
              "      <td>0</td>\n",
              "      <td>2015</td>\n",
              "      <td>0</td>\n",
              "      <td>3</td>\n",
              "      <td>33</td>\n",
              "      <td>0</td>\n",
              "      <td>1</td>\n",
              "      <td>4</td>\n",
              "      <td>0</td>\n",
              "    </tr>\n",
              "  </tbody>\n",
              "</table>\n",
              "<p>4653 rows × 9 columns</p>\n",
              "</div>\n",
              "      <button class=\"colab-df-convert\" onclick=\"convertToInteractive('df-797be250-2b6d-4a71-93fe-77c0c8c356ea')\"\n",
              "              title=\"Convert this dataframe to an interactive table.\"\n",
              "              style=\"display:none;\">\n",
              "        \n",
              "  <svg xmlns=\"http://www.w3.org/2000/svg\" height=\"24px\"viewBox=\"0 0 24 24\"\n",
              "       width=\"24px\">\n",
              "    <path d=\"M0 0h24v24H0V0z\" fill=\"none\"/>\n",
              "    <path d=\"M18.56 5.44l.94 2.06.94-2.06 2.06-.94-2.06-.94-.94-2.06-.94 2.06-2.06.94zm-11 1L8.5 8.5l.94-2.06 2.06-.94-2.06-.94L8.5 2.5l-.94 2.06-2.06.94zm10 10l.94 2.06.94-2.06 2.06-.94-2.06-.94-.94-2.06-.94 2.06-2.06.94z\"/><path d=\"M17.41 7.96l-1.37-1.37c-.4-.4-.92-.59-1.43-.59-.52 0-1.04.2-1.43.59L10.3 9.45l-7.72 7.72c-.78.78-.78 2.05 0 2.83L4 21.41c.39.39.9.59 1.41.59.51 0 1.02-.2 1.41-.59l7.78-7.78 2.81-2.81c.8-.78.8-2.07 0-2.86zM5.41 20L4 18.59l7.72-7.72 1.47 1.35L5.41 20z\"/>\n",
              "  </svg>\n",
              "      </button>\n",
              "      \n",
              "  <style>\n",
              "    .colab-df-container {\n",
              "      display:flex;\n",
              "      flex-wrap:wrap;\n",
              "      gap: 12px;\n",
              "    }\n",
              "\n",
              "    .colab-df-convert {\n",
              "      background-color: #E8F0FE;\n",
              "      border: none;\n",
              "      border-radius: 50%;\n",
              "      cursor: pointer;\n",
              "      display: none;\n",
              "      fill: #1967D2;\n",
              "      height: 32px;\n",
              "      padding: 0 0 0 0;\n",
              "      width: 32px;\n",
              "    }\n",
              "\n",
              "    .colab-df-convert:hover {\n",
              "      background-color: #E2EBFA;\n",
              "      box-shadow: 0px 1px 2px rgba(60, 64, 67, 0.3), 0px 1px 3px 1px rgba(60, 64, 67, 0.15);\n",
              "      fill: #174EA6;\n",
              "    }\n",
              "\n",
              "    [theme=dark] .colab-df-convert {\n",
              "      background-color: #3B4455;\n",
              "      fill: #D2E3FC;\n",
              "    }\n",
              "\n",
              "    [theme=dark] .colab-df-convert:hover {\n",
              "      background-color: #434B5C;\n",
              "      box-shadow: 0px 1px 3px 1px rgba(0, 0, 0, 0.15);\n",
              "      filter: drop-shadow(0px 1px 2px rgba(0, 0, 0, 0.3));\n",
              "      fill: #FFFFFF;\n",
              "    }\n",
              "  </style>\n",
              "\n",
              "      <script>\n",
              "        const buttonEl =\n",
              "          document.querySelector('#df-797be250-2b6d-4a71-93fe-77c0c8c356ea button.colab-df-convert');\n",
              "        buttonEl.style.display =\n",
              "          google.colab.kernel.accessAllowed ? 'block' : 'none';\n",
              "\n",
              "        async function convertToInteractive(key) {\n",
              "          const element = document.querySelector('#df-797be250-2b6d-4a71-93fe-77c0c8c356ea');\n",
              "          const dataTable =\n",
              "            await google.colab.kernel.invokeFunction('convertToInteractive',\n",
              "                                                     [key], {});\n",
              "          if (!dataTable) return;\n",
              "\n",
              "          const docLinkHtml = 'Like what you see? Visit the ' +\n",
              "            '<a target=\"_blank\" href=https://colab.research.google.com/notebooks/data_table.ipynb>data table notebook</a>'\n",
              "            + ' to learn more about interactive tables.';\n",
              "          element.innerHTML = '';\n",
              "          dataTable['output_type'] = 'display_data';\n",
              "          await google.colab.output.renderOutput(dataTable, element);\n",
              "          const docLink = document.createElement('div');\n",
              "          docLink.innerHTML = docLinkHtml;\n",
              "          element.appendChild(docLink);\n",
              "        }\n",
              "      </script>\n",
              "    </div>\n",
              "  </div>\n",
              "  "
            ]
          },
          "metadata": {},
          "execution_count": 5
        }
      ]
    },
    {
      "cell_type": "code",
      "execution_count": 6,
      "metadata": {
        "colab": {
          "base_uri": "https://localhost:8080/"
        },
        "id": "Z7OIodzwYUqS",
        "outputId": "b19889e0-9820-4c4c-cde6-31d6788f91ae"
      },
      "outputs": [
        {
          "output_type": "stream",
          "name": "stdout",
          "text": [
            "<class 'pandas.core.frame.DataFrame'>\n",
            "RangeIndex: 4653 entries, 0 to 4652\n",
            "Data columns (total 9 columns):\n",
            " #   Column                     Non-Null Count  Dtype\n",
            "---  ------                     --------------  -----\n",
            " 0   Education                  4653 non-null   int64\n",
            " 1   JoiningYear                4653 non-null   int64\n",
            " 2   City                       4653 non-null   int64\n",
            " 3   PaymentTier                4653 non-null   int64\n",
            " 4   Age                        4653 non-null   int64\n",
            " 5   Gender                     4653 non-null   int64\n",
            " 6   EverBenched                4653 non-null   int64\n",
            " 7   ExperienceInCurrentDomain  4653 non-null   int64\n",
            " 8   LeaveOrNot                 4653 non-null   int64\n",
            "dtypes: int64(9)\n",
            "memory usage: 327.3 KB\n"
          ]
        }
      ],
      "source": [
        "df.info()"
      ]
    },
    {
      "cell_type": "code",
      "source": [
        "df.shape"
      ],
      "metadata": {
        "colab": {
          "base_uri": "https://localhost:8080/"
        },
        "id": "70AL72k4fWq-",
        "outputId": "6210c1eb-defb-4b74-92e5-144d22ddfb55"
      },
      "execution_count": 7,
      "outputs": [
        {
          "output_type": "execute_result",
          "data": {
            "text/plain": [
              "(4653, 9)"
            ]
          },
          "metadata": {},
          "execution_count": 7
        }
      ]
    },
    {
      "cell_type": "code",
      "source": [
        "df['LeaveOrNot'].isnull().sum()"
      ],
      "metadata": {
        "colab": {
          "base_uri": "https://localhost:8080/"
        },
        "id": "BZ-nLM8TuYyE",
        "outputId": "57495d1f-4929-494a-df0c-955910e3054b"
      },
      "execution_count": 8,
      "outputs": [
        {
          "output_type": "execute_result",
          "data": {
            "text/plain": [
              "0"
            ]
          },
          "metadata": {},
          "execution_count": 8
        }
      ]
    },
    {
      "cell_type": "code",
      "source": [
        "# now dividing the dataframe into dependent and independent varaible\n",
        "X=df.drop(['LeaveOrNot'], axis=1)\n",
        "y=df.LeaveOrNot\n",
        "\n",
        "# check the shape\n",
        "X.shape, y.shape"
      ],
      "metadata": {
        "colab": {
          "base_uri": "https://localhost:8080/"
        },
        "id": "IeG4PDGJdwEN",
        "outputId": "f231a5a9-37d1-466a-f292-aa220df49291"
      },
      "execution_count": 9,
      "outputs": [
        {
          "output_type": "execute_result",
          "data": {
            "text/plain": [
              "((4653, 8), (4653,))"
            ]
          },
          "metadata": {},
          "execution_count": 9
        }
      ]
    },
    {
      "cell_type": "code",
      "execution_count": 10,
      "metadata": {
        "colab": {
          "base_uri": "https://localhost:8080/"
        },
        "id": "-82l21TndAIO",
        "outputId": "131aa95d-7e2f-4275-ff38-a3bd23dbf444"
      },
      "outputs": [
        {
          "output_type": "execute_result",
          "data": {
            "text/plain": [
              "((3722, 8), (931, 8), (3722,), (931,))"
            ]
          },
          "metadata": {},
          "execution_count": 10
        }
      ],
      "source": [
        "# we will divide the dataset into training and testing dataset\n",
        "X_train,X_test,y_train,y_test= train_test_split(X,y,test_size=0.2,random_state=99)\n",
        "\n",
        "# check the shape again\n",
        "X_train.shape,X_test.shape,y_train.shape,y_test.shape"
      ]
    },
    {
      "cell_type": "code",
      "source": [
        "# scaler\n",
        "scaler=StandardScaler()\n",
        "X_train=scaler.fit_transform(X_train)\n",
        "X_test=scaler.fit_transform(X_test)"
      ],
      "metadata": {
        "id": "j-OURas-vBcJ"
      },
      "execution_count": 11,
      "outputs": []
    },
    {
      "cell_type": "code",
      "source": [
        "y_train=y_train.to_numpy()\n",
        "y_test=y_test.to_numpy()"
      ],
      "metadata": {
        "id": "bzyKAY9kvCpy"
      },
      "execution_count": 12,
      "outputs": []
    },
    {
      "cell_type": "code",
      "source": [
        "X_train=X_train.reshape(X_train.shape[0],X_train.shape[1])\n",
        "X_test=X_test.reshape(X_test.shape[0],X_test.shape[1])\n",
        "\n",
        "# check the shape again\n",
        "X_train.shape, X_test.shape"
      ],
      "metadata": {
        "colab": {
          "base_uri": "https://localhost:8080/"
        },
        "id": "cJXKuL3YvExw",
        "outputId": "85f47827-0c78-4051-e0ed-7315bccabac7"
      },
      "execution_count": 13,
      "outputs": [
        {
          "output_type": "execute_result",
          "data": {
            "text/plain": [
              "((3722, 8), (931, 8))"
            ]
          },
          "metadata": {},
          "execution_count": 13
        }
      ]
    },
    {
      "cell_type": "code",
      "source": [
        "print(\"Before OverSampling, counts of label '1': {}\".format(sum(y_train==1)))\n",
        "print(\"Before OverSampling, counts of label '0': {} \\n\".format(sum(y_train==0)))"
      ],
      "metadata": {
        "colab": {
          "base_uri": "https://localhost:8080/"
        },
        "id": "6zN2PzhYvQ_H",
        "outputId": "6a74c5e2-bd0d-4769-8a98-4cc00156592a"
      },
      "execution_count": 14,
      "outputs": [
        {
          "output_type": "stream",
          "name": "stdout",
          "text": [
            "Before OverSampling, counts of label '1': 1283\n",
            "Before OverSampling, counts of label '0': 2439 \n",
            "\n"
          ]
        }
      ]
    },
    {
      "cell_type": "code",
      "execution_count": 17,
      "metadata": {
        "id": "gE2iVRovdCYI"
      },
      "outputs": [],
      "source": [
        "from imblearn.combine import SMOTEENN\n",
        "\n",
        "# oversampling the train dataset using SMOTE\n",
        "smt= SMOTEENN()\n",
        "X_train_sm, y_train_sm= smt.fit_resample(X_train, y_train.ravel())\n",
        "\n",
        "X_train_sm= X_train_sm.reshape(X_train_sm.shape[0],X_train_sm.shape[1],1)\n",
        "X_test=X_test.reshape(X_test.shape[0],X_test.shape[1],1)"
      ]
    },
    {
      "cell_type": "code",
      "source": [
        "print('After OverSampling, the shape of train_X: {}'.format(X_train_sm.shape))\n",
        "print('After OverSampling, the shape of train_y: {} \\n'.format(y_train_sm.shape))\n",
        "\n",
        "print(\"After OverSampling, counts of label '1': {}\".format(sum(y_train_sm==1)))\n",
        "print(\"After OverSampling, counts of label '0': {}\".format(sum(y_train_sm==0)))"
      ],
      "metadata": {
        "colab": {
          "base_uri": "https://localhost:8080/"
        },
        "id": "TW1YU5MewOON",
        "outputId": "bb38c47a-bd9b-4ded-d8dd-a186b1c9891e"
      },
      "execution_count": 18,
      "outputs": [
        {
          "output_type": "stream",
          "name": "stdout",
          "text": [
            "After OverSampling, the shape of train_X: (3087, 8, 1)\n",
            "After OverSampling, the shape of train_y: (3087,) \n",
            "\n",
            "After OverSampling, counts of label '1': 1571\n",
            "After OverSampling, counts of label '0': 1516\n"
          ]
        }
      ]
    },
    {
      "cell_type": "code",
      "source": [
        "# import the libraries\n",
        "from tensorflow.keras.models import Sequential\n",
        "from tensorflow.keras.layers import Dense,Flatten,Conv1D,BatchNormalization,Dropout"
      ],
      "metadata": {
        "id": "u4JDPcp3TLQj"
      },
      "execution_count": 20,
      "outputs": []
    },
    {
      "cell_type": "code",
      "source": [
        "# import model\n",
        "model=Sequential()\n",
        "# layers\n",
        "model.add(Conv1D(filters=32, kernel_size=2, activation='relu', input_shape=X_train_sm[0].shape))\n",
        "model.add(BatchNormalization())\n",
        "model.add(Dropout(0.2))\n",
        "\n",
        "model.add(Conv1D(filters=64, kernel_size=2, activation='relu'))\n",
        "model.add(BatchNormalization())\n",
        "model.add(Dropout(0.2))\n",
        "\n",
        "# build ANN\n",
        "model.add(Flatten())\n",
        "model.add(Dense(64, activation='relu'))\n",
        "model.add(Dropout(0.5))\n",
        "model.add(Dense(1, activation='relu'))"
      ],
      "metadata": {
        "id": "djgFB8H1TmUq"
      },
      "execution_count": 21,
      "outputs": []
    },
    {
      "cell_type": "code",
      "source": [
        "# summary\n",
        "model.summary()"
      ],
      "metadata": {
        "colab": {
          "base_uri": "https://localhost:8080/"
        },
        "id": "1KxYR0f1Tvfz",
        "outputId": "037efd6f-fed6-4892-d1be-3b49302792a5"
      },
      "execution_count": 22,
      "outputs": [
        {
          "output_type": "stream",
          "name": "stdout",
          "text": [
            "Model: \"sequential\"\n",
            "_________________________________________________________________\n",
            " Layer (type)                Output Shape              Param #   \n",
            "=================================================================\n",
            " conv1d (Conv1D)             (None, 7, 32)             96        \n",
            "                                                                 \n",
            " batch_normalization (BatchN  (None, 7, 32)            128       \n",
            " ormalization)                                                   \n",
            "                                                                 \n",
            " dropout (Dropout)           (None, 7, 32)             0         \n",
            "                                                                 \n",
            " conv1d_1 (Conv1D)           (None, 6, 64)             4160      \n",
            "                                                                 \n",
            " batch_normalization_1 (Batc  (None, 6, 64)            256       \n",
            " hNormalization)                                                 \n",
            "                                                                 \n",
            " dropout_1 (Dropout)         (None, 6, 64)             0         \n",
            "                                                                 \n",
            " flatten (Flatten)           (None, 384)               0         \n",
            "                                                                 \n",
            " dense (Dense)               (None, 64)                24640     \n",
            "                                                                 \n",
            " dropout_2 (Dropout)         (None, 64)                0         \n",
            "                                                                 \n",
            " dense_1 (Dense)             (None, 1)                 65        \n",
            "                                                                 \n",
            "=================================================================\n",
            "Total params: 29,345\n",
            "Trainable params: 29,153\n",
            "Non-trainable params: 192\n",
            "_________________________________________________________________\n"
          ]
        }
      ]
    },
    {
      "cell_type": "code",
      "source": [
        "# compile the model\n",
        "model.compile(optimizer='adam', loss='binary_crossentropy', metrics=['accuracy'])"
      ],
      "metadata": {
        "id": "AWI8ByRxUCZL"
      },
      "execution_count": 23,
      "outputs": []
    },
    {
      "cell_type": "code",
      "source": [
        "%%time\n",
        "# fitting the model\n",
        "history=model.fit(X_train_sm,y_train_sm,epochs=15,validation_data=(X_test,y_test))"
      ],
      "metadata": {
        "colab": {
          "base_uri": "https://localhost:8080/"
        },
        "id": "sYNeAt1PUHLF",
        "outputId": "511d16e1-4947-4867-da29-eafcf7999630"
      },
      "execution_count": 24,
      "outputs": [
        {
          "output_type": "stream",
          "name": "stdout",
          "text": [
            "Epoch 1/15\n",
            "97/97 [==============================] - 3s 9ms/step - loss: 3.8059 - accuracy: 0.7042 - val_loss: 4.2992 - val_accuracy: 0.6649\n",
            "Epoch 2/15\n",
            "97/97 [==============================] - 1s 7ms/step - loss: 3.1595 - accuracy: 0.7658 - val_loss: 4.6098 - val_accuracy: 0.6563\n",
            "Epoch 3/15\n",
            "97/97 [==============================] - 1s 6ms/step - loss: 3.3031 - accuracy: 0.7609 - val_loss: 4.2973 - val_accuracy: 0.6778\n",
            "Epoch 4/15\n",
            "97/97 [==============================] - 1s 6ms/step - loss: 2.9809 - accuracy: 0.7833 - val_loss: 4.3082 - val_accuracy: 0.6799\n",
            "Epoch 5/15\n",
            "97/97 [==============================] - 1s 6ms/step - loss: 3.1057 - accuracy: 0.7700 - val_loss: 4.4474 - val_accuracy: 0.6864\n",
            "Epoch 6/15\n",
            "97/97 [==============================] - 1s 6ms/step - loss: 2.8068 - accuracy: 0.7956 - val_loss: 4.4017 - val_accuracy: 0.6907\n",
            "Epoch 7/15\n",
            "97/97 [==============================] - 1s 6ms/step - loss: 2.7095 - accuracy: 0.8037 - val_loss: 4.2835 - val_accuracy: 0.7111\n",
            "Epoch 8/15\n",
            "97/97 [==============================] - 1s 5ms/step - loss: 2.6474 - accuracy: 0.8079 - val_loss: 3.9829 - val_accuracy: 0.7261\n",
            "Epoch 9/15\n",
            "97/97 [==============================] - 1s 5ms/step - loss: 3.0078 - accuracy: 0.7898 - val_loss: 4.6569 - val_accuracy: 0.6864\n",
            "Epoch 10/15\n",
            "97/97 [==============================] - 1s 5ms/step - loss: 2.9564 - accuracy: 0.7937 - val_loss: 4.5720 - val_accuracy: 0.6874\n",
            "Epoch 11/15\n",
            "97/97 [==============================] - 1s 8ms/step - loss: 2.6487 - accuracy: 0.8098 - val_loss: 4.4480 - val_accuracy: 0.6917\n",
            "Epoch 12/15\n",
            "97/97 [==============================] - 1s 8ms/step - loss: 2.3647 - accuracy: 0.8273 - val_loss: 4.2094 - val_accuracy: 0.7132\n",
            "Epoch 13/15\n",
            "97/97 [==============================] - 1s 9ms/step - loss: 2.6063 - accuracy: 0.8199 - val_loss: 4.2758 - val_accuracy: 0.7025\n",
            "Epoch 14/15\n",
            "97/97 [==============================] - 1s 6ms/step - loss: 2.5374 - accuracy: 0.8205 - val_loss: 4.5066 - val_accuracy: 0.6799\n",
            "Epoch 15/15\n",
            "97/97 [==============================] - 1s 6ms/step - loss: 2.6146 - accuracy: 0.8150 - val_loss: 3.9618 - val_accuracy: 0.7250\n",
            "CPU times: user 12.8 s, sys: 435 ms, total: 13.3 s\n",
            "Wall time: 11.6 s\n"
          ]
        }
      ]
    },
    {
      "cell_type": "markdown",
      "source": [
        "# BFloat-16"
      ],
      "metadata": {
        "id": "sDxLnSm3xsly"
      }
    },
    {
      "cell_type": "code",
      "source": [
        "# import model\n",
        "model2=Sequential()\n",
        "# layers\n",
        "model2.add(Conv1D(filters=32, kernel_size=2, activation='relu', input_shape=X_train_sm[0].shape))\n",
        "model2.add(BatchNormalization())\n",
        "model2.add(Dropout(0.2))\n",
        "\n",
        "model2.add(Conv1D(filters=64, kernel_size=2, activation='relu'))\n",
        "model2.add(BatchNormalization())\n",
        "model2.add(Dropout(0.2))\n",
        "\n",
        "# build ANN\n",
        "model2.add(Flatten())\n",
        "model2.add(Dense(64, activation='relu'))\n",
        "model2.add(Dropout(0.5))\n",
        "model2.add(Dense(1, activation='relu'))"
      ],
      "metadata": {
        "id": "V2OLKvcBUMLa"
      },
      "execution_count": 25,
      "outputs": []
    },
    {
      "cell_type": "code",
      "source": [
        "# convert model weights to bfloat16 data type\n",
        "policy = tf.keras.mixed_precision.Policy('mixed_bfloat16')\n",
        "tf.keras.mixed_precision.set_global_policy(policy)"
      ],
      "metadata": {
        "id": "3hscTtH3x7cs"
      },
      "execution_count": 26,
      "outputs": []
    },
    {
      "cell_type": "code",
      "source": [
        "# convert input data to bfloat16 data type\n",
        "X_train_bfloat = tf.convert_to_tensor(X_train_sm, dtype=tf.bfloat16)"
      ],
      "metadata": {
        "id": "tHL4paHUyIJ8"
      },
      "execution_count": 27,
      "outputs": []
    },
    {
      "cell_type": "code",
      "source": [
        "X_train_bfloat.shape"
      ],
      "metadata": {
        "colab": {
          "base_uri": "https://localhost:8080/"
        },
        "id": "wvk0gdrRyNKm",
        "outputId": "c8b527f2-6fab-470d-982f-a77c369f07ff"
      },
      "execution_count": 28,
      "outputs": [
        {
          "output_type": "execute_result",
          "data": {
            "text/plain": [
              "TensorShape([3087, 8, 1])"
            ]
          },
          "metadata": {},
          "execution_count": 28
        }
      ]
    },
    {
      "cell_type": "code",
      "source": [
        "type(X_train_bfloat)"
      ],
      "metadata": {
        "colab": {
          "base_uri": "https://localhost:8080/"
        },
        "id": "Q5gV854KyPaQ",
        "outputId": "cb4410f1-dd0a-4ae3-a098-f92bfea0a494"
      },
      "execution_count": 29,
      "outputs": [
        {
          "output_type": "execute_result",
          "data": {
            "text/plain": [
              "tensorflow.python.framework.ops.EagerTensor"
            ]
          },
          "metadata": {},
          "execution_count": 29
        }
      ]
    },
    {
      "cell_type": "code",
      "source": [
        "# convert test data to bfloat16 data type\n",
        "X_test_bfloat = tf.convert_to_tensor(X_test, dtype=tf.bfloat16)"
      ],
      "metadata": {
        "id": "ne6-e_epyRn6"
      },
      "execution_count": 30,
      "outputs": []
    },
    {
      "cell_type": "code",
      "source": [
        "# train the model with bfloat16 data type\n",
        "model2.compile(optimizer='adam', loss='binary_crossentropy', metrics=['accuracy'])"
      ],
      "metadata": {
        "id": "H4OoVYzTyVUu"
      },
      "execution_count": 31,
      "outputs": []
    },
    {
      "cell_type": "code",
      "source": [
        "%%time\n",
        "# fitting the model\n",
        "model2.fit(X_train_bfloat, y_train_sm, epochs=15,validation_data=(X_test_bfloat,y_test))"
      ],
      "metadata": {
        "colab": {
          "base_uri": "https://localhost:8080/"
        },
        "id": "ZM3VdzJPyXyV",
        "outputId": "909e2915-632c-426d-eeec-539fda8fc2aa"
      },
      "execution_count": 33,
      "outputs": [
        {
          "output_type": "stream",
          "name": "stdout",
          "text": [
            "Epoch 1/15\n",
            "97/97 [==============================] - 1s 6ms/step - loss: 2.4696 - accuracy: 0.8257 - val_loss: 4.4328 - val_accuracy: 0.6992\n",
            "Epoch 2/15\n",
            "97/97 [==============================] - 1s 5ms/step - loss: 2.4212 - accuracy: 0.8264 - val_loss: 3.9365 - val_accuracy: 0.7229\n",
            "Epoch 3/15\n",
            "97/97 [==============================] - 1s 5ms/step - loss: 2.7153 - accuracy: 0.8037 - val_loss: 3.9221 - val_accuracy: 0.7358\n",
            "Epoch 4/15\n",
            "97/97 [==============================] - 1s 5ms/step - loss: 2.5640 - accuracy: 0.8137 - val_loss: 3.7276 - val_accuracy: 0.7444\n",
            "Epoch 5/15\n",
            "97/97 [==============================] - 1s 6ms/step - loss: 2.4740 - accuracy: 0.8247 - val_loss: 3.9262 - val_accuracy: 0.7390\n",
            "Epoch 6/15\n",
            "97/97 [==============================] - 1s 5ms/step - loss: 2.3861 - accuracy: 0.8299 - val_loss: 3.9078 - val_accuracy: 0.7347\n",
            "Epoch 7/15\n",
            "97/97 [==============================] - 1s 6ms/step - loss: 2.2675 - accuracy: 0.8367 - val_loss: 4.2786 - val_accuracy: 0.7078\n",
            "Epoch 8/15\n",
            "97/97 [==============================] - 1s 6ms/step - loss: 2.1821 - accuracy: 0.8413 - val_loss: 4.0119 - val_accuracy: 0.7186\n",
            "Epoch 9/15\n",
            "97/97 [==============================] - 1s 5ms/step - loss: 2.1814 - accuracy: 0.8439 - val_loss: 3.7969 - val_accuracy: 0.7358\n",
            "Epoch 10/15\n",
            "97/97 [==============================] - 1s 5ms/step - loss: 2.2787 - accuracy: 0.8393 - val_loss: 3.7630 - val_accuracy: 0.7304\n",
            "Epoch 11/15\n",
            "97/97 [==============================] - 1s 6ms/step - loss: 2.1674 - accuracy: 0.8448 - val_loss: 4.0685 - val_accuracy: 0.7218\n",
            "Epoch 12/15\n",
            "97/97 [==============================] - 1s 7ms/step - loss: 2.1451 - accuracy: 0.8448 - val_loss: 3.9791 - val_accuracy: 0.7272\n",
            "Epoch 13/15\n",
            "97/97 [==============================] - 1s 9ms/step - loss: 2.0925 - accuracy: 0.8490 - val_loss: 3.9146 - val_accuracy: 0.7304\n",
            "Epoch 14/15\n",
            "97/97 [==============================] - 1s 9ms/step - loss: 2.1258 - accuracy: 0.8494 - val_loss: 3.8589 - val_accuracy: 0.7368\n",
            "Epoch 15/15\n",
            "97/97 [==============================] - 1s 7ms/step - loss: 2.0703 - accuracy: 0.8497 - val_loss: 3.5727 - val_accuracy: 0.7304\n",
            "CPU times: user 10.3 s, sys: 364 ms, total: 10.7 s\n",
            "Wall time: 9.18 s\n"
          ]
        },
        {
          "output_type": "execute_result",
          "data": {
            "text/plain": [
              "<keras.callbacks.History at 0x7feb6ab3daf0>"
            ]
          },
          "metadata": {},
          "execution_count": 33
        }
      ]
    }
  ],
  "metadata": {
    "colab": {
      "provenance": []
    },
    "kernelspec": {
      "display_name": "Python 3",
      "name": "python3"
    },
    "language_info": {
      "name": "python"
    }
  },
  "nbformat": 4,
  "nbformat_minor": 0
}